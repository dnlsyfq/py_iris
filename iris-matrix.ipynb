{
 "cells": [
  {
   "cell_type": "code",
   "execution_count": 1,
   "id": "eae97174",
   "metadata": {
    "_cell_guid": "b1076dfc-b9ad-4769-8c92-a6c4dae69d19",
    "_uuid": "8f2839f25d086af736a60e9eeb907d3b93b6e0e5",
    "execution": {
     "iopub.execute_input": "2024-01-21T08:12:50.445035Z",
     "iopub.status.busy": "2024-01-21T08:12:50.444362Z",
     "iopub.status.idle": "2024-01-21T08:12:50.775971Z",
     "shell.execute_reply": "2024-01-21T08:12:50.775043Z"
    },
    "papermill": {
     "duration": 0.338409,
     "end_time": "2024-01-21T08:12:50.777971",
     "exception": false,
     "start_time": "2024-01-21T08:12:50.439562",
     "status": "completed"
    },
    "tags": []
   },
   "outputs": [
    {
     "name": "stdout",
     "output_type": "stream",
     "text": [
      "/kaggle/input/iris-flower-dataset/IRIS.csv\n"
     ]
    }
   ],
   "source": [
    "# This Python 3 environment comes with many helpful analytics libraries installed\n",
    "# It is defined by the kaggle/python Docker image: https://github.com/kaggle/docker-python\n",
    "# For example, here's several helpful packages to load\n",
    "\n",
    "import numpy as np # linear algebra\n",
    "import pandas as pd # data processing, CSV file I/O (e.g. pd.read_csv)\n",
    "\n",
    "# Input data files are available in the read-only \"../input/\" directory\n",
    "# For example, running this (by clicking run or pressing Shift+Enter) will list all files under the input directory\n",
    "\n",
    "import os\n",
    "for dirname, _, filenames in os.walk('/kaggle/input'):\n",
    "    for filename in filenames:\n",
    "        print(os.path.join(dirname, filename))\n",
    "\n",
    "# You can write up to 20GB to the current directory (/kaggle/working/) that gets preserved as output when you create a version using \"Save & Run All\" \n",
    "# You can also write temporary files to /kaggle/temp/, but they won't be saved outside of the current session"
   ]
  },
  {
   "cell_type": "code",
   "execution_count": 2,
   "id": "28155479",
   "metadata": {
    "execution": {
     "iopub.execute_input": "2024-01-21T08:12:50.785555Z",
     "iopub.status.busy": "2024-01-21T08:12:50.785015Z",
     "iopub.status.idle": "2024-01-21T08:12:50.807633Z",
     "shell.execute_reply": "2024-01-21T08:12:50.806429Z"
    },
    "papermill": {
     "duration": 0.029332,
     "end_time": "2024-01-21T08:12:50.810331",
     "exception": false,
     "start_time": "2024-01-21T08:12:50.780999",
     "status": "completed"
    },
    "tags": []
   },
   "outputs": [],
   "source": [
    "df = pd.read_csv('/kaggle/input/iris-flower-dataset/IRIS.csv')"
   ]
  },
  {
   "cell_type": "markdown",
   "id": "bf343c00",
   "metadata": {
    "papermill": {
     "duration": 0.002159,
     "end_time": "2024-01-21T08:12:50.815146",
     "exception": false,
     "start_time": "2024-01-21T08:12:50.812987",
     "status": "completed"
    },
    "tags": []
   },
   "source": [
    "Feature Matrix , $X$"
   ]
  },
  {
   "cell_type": "code",
   "execution_count": 3,
   "id": "872bc9bc",
   "metadata": {
    "execution": {
     "iopub.execute_input": "2024-01-21T08:12:50.821363Z",
     "iopub.status.busy": "2024-01-21T08:12:50.821027Z",
     "iopub.status.idle": "2024-01-21T08:12:50.834366Z",
     "shell.execute_reply": "2024-01-21T08:12:50.832809Z"
    },
    "papermill": {
     "duration": 0.019453,
     "end_time": "2024-01-21T08:12:50.836923",
     "exception": false,
     "start_time": "2024-01-21T08:12:50.817470",
     "status": "completed"
    },
    "tags": []
   },
   "outputs": [
    {
     "data": {
      "text/plain": [
       "array([[5.1, 3.5, 1.4, 0.2],\n",
       "       [4.9, 3. , 1.4, 0.2],\n",
       "       [4.7, 3.2, 1.3, 0.2],\n",
       "       [4.6, 3.1, 1.5, 0.2],\n",
       "       [5. , 3.6, 1.4, 0.2]])"
      ]
     },
     "execution_count": 3,
     "metadata": {},
     "output_type": "execute_result"
    }
   ],
   "source": [
    "# Feature Matrix , X\n",
    "x = np.array(df.iloc[:,0:-1])\n",
    "x[:5] # sample"
   ]
  },
  {
   "cell_type": "code",
   "execution_count": 4,
   "id": "acae5c31",
   "metadata": {
    "execution": {
     "iopub.execute_input": "2024-01-21T08:12:50.843828Z",
     "iopub.status.busy": "2024-01-21T08:12:50.843459Z",
     "iopub.status.idle": "2024-01-21T08:12:50.851418Z",
     "shell.execute_reply": "2024-01-21T08:12:50.849833Z"
    },
    "papermill": {
     "duration": 0.014598,
     "end_time": "2024-01-21T08:12:50.854321",
     "exception": false,
     "start_time": "2024-01-21T08:12:50.839723",
     "status": "completed"
    },
    "tags": []
   },
   "outputs": [
    {
     "data": {
      "text/plain": [
       "(150, 4)"
      ]
     },
     "execution_count": 4,
     "metadata": {},
     "output_type": "execute_result"
    }
   ],
   "source": [
    "# X dataset \n",
    "x.shape"
   ]
  },
  {
   "cell_type": "markdown",
   "id": "904c8e21",
   "metadata": {
    "papermill": {
     "duration": 0.002524,
     "end_time": "2024-01-21T08:12:50.859717",
     "exception": false,
     "start_time": "2024-01-21T08:12:50.857193",
     "status": "completed"
    },
    "tags": []
   },
   "source": [
    "$X \\text{ dataset consists of: }$\n",
    "150 rows x 4 columns\n",
    "\n",
    "$X$ is real number, $ X \\in R^{150 x 4}$\n",
    "\n",
    "$X_{1}^{150}$ is  first dimension of flower sample 150, the sepal length\n",
    "\n",
    "Each row in this feature matrix represents one flower instance and can be written as four-dimensional row vector \n",
    "\n"
   ]
  },
  {
   "cell_type": "code",
   "execution_count": 5,
   "id": "758fa50a",
   "metadata": {
    "execution": {
     "iopub.execute_input": "2024-01-21T08:12:50.868385Z",
     "iopub.status.busy": "2024-01-21T08:12:50.866913Z",
     "iopub.status.idle": "2024-01-21T08:12:50.875137Z",
     "shell.execute_reply": "2024-01-21T08:12:50.873839Z"
    },
    "papermill": {
     "duration": 0.015248,
     "end_time": "2024-01-21T08:12:50.877734",
     "exception": false,
     "start_time": "2024-01-21T08:12:50.862486",
     "status": "completed"
    },
    "tags": []
   },
   "outputs": [
    {
     "data": {
      "text/plain": [
       "array([5.1, 3.5, 1.4, 0.2])"
      ]
     },
     "execution_count": 5,
     "metadata": {},
     "output_type": "execute_result"
    }
   ],
   "source": [
    "x[0]"
   ]
  },
  {
   "cell_type": "code",
   "execution_count": null,
   "id": "8dc6b57f",
   "metadata": {
    "papermill": {
     "duration": 0.002563,
     "end_time": "2024-01-21T08:12:50.883405",
     "exception": false,
     "start_time": "2024-01-21T08:12:50.880842",
     "status": "completed"
    },
    "tags": []
   },
   "outputs": [],
   "source": []
  }
 ],
 "metadata": {
  "kaggle": {
   "accelerator": "none",
   "dataSources": [
    {
     "datasetId": 17860,
     "sourceId": 23404,
     "sourceType": "datasetVersion"
    }
   ],
   "dockerImageVersionId": 30635,
   "isGpuEnabled": false,
   "isInternetEnabled": false,
   "language": "python",
   "sourceType": "notebook"
  },
  "kernelspec": {
   "display_name": "Python 3",
   "language": "python",
   "name": "python3"
  },
  "language_info": {
   "codemirror_mode": {
    "name": "ipython",
    "version": 3
   },
   "file_extension": ".py",
   "mimetype": "text/x-python",
   "name": "python",
   "nbconvert_exporter": "python",
   "pygments_lexer": "ipython3",
   "version": "3.10.12"
  },
  "papermill": {
   "default_parameters": {},
   "duration": 3.589202,
   "end_time": "2024-01-21T08:12:51.306895",
   "environment_variables": {},
   "exception": null,
   "input_path": "__notebook__.ipynb",
   "output_path": "__notebook__.ipynb",
   "parameters": {},
   "start_time": "2024-01-21T08:12:47.717693",
   "version": "2.4.0"
  }
 },
 "nbformat": 4,
 "nbformat_minor": 5
}
